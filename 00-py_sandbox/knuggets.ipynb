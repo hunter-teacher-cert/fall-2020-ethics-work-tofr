{
  "nbformat": 4,
  "nbformat_minor": 0,
  "metadata": {
    "colab": {
      "name": "foo02.ipynb",
      "provenance": [],
      "authorship_tag": "ABX9TyOdwlyZjusVnTeHGTbCY/EI",
      "include_colab_link": true
    },
    "kernelspec": {
      "name": "python3",
      "display_name": "Python 3"
    }
  },
  "cells": [
    {
      "cell_type": "markdown",
      "metadata": {
        "id": "view-in-github",
        "colab_type": "text"
      },
      "source": [
        "<a href=\"https://colab.research.google.com/github/hunter-teacher-cert/fall-2020-ethics-work-tofr/blob/master/00-py_sandbox/knuggets.ipynb\" target=\"_parent\"><img src=\"https://colab.research.google.com/assets/colab-badge.svg\" alt=\"Open In Colab\"/></a>"
      ]
    },
    {
      "cell_type": "code",
      "metadata": {
        "id": "8omnftvql56u",
        "colab_type": "code",
        "colab": {
          "base_uri": "https://localhost:8080/",
          "height": 34
        },
        "outputId": "fa43103e-76fc-4bf4-94fc-361fbdf31494"
      },
      "source": [
        "print(\"This line will be printed.\")\n"
      ],
      "execution_count": null,
      "outputs": [
        {
          "output_type": "stream",
          "text": [
            "This line will be printed.\n"
          ],
          "name": "stdout"
        }
      ]
    },
    {
      "cell_type": "code",
      "metadata": {
        "id": "a-qSU3l8nRv-",
        "colab_type": "code",
        "colab": {
          "base_uri": "https://localhost:8080/",
          "height": 69
        },
        "outputId": "6fba7f71-1f6b-4a16-a878-f030b58ac0d9"
      },
      "source": [
        "# Clyde \"Thluffy\" Sinclair\n",
        "# Aug 2020\n",
        "\n",
        "def factorial(n):\n",
        "    return 1\n",
        "\n",
        "def fib(n):\n",
        "    return 1\n",
        "\n",
        "print(\"Good News Everyone!\")\n",
        "print(f\"1! = {factorial(1)}\" )\n",
        "print(f\"fib(1) = {fib(1)}\" )\n"
      ],
      "execution_count": null,
      "outputs": [
        {
          "output_type": "stream",
          "text": [
            "Good News Everyone!\n",
            "1! = 1\n",
            "fib(1) = 1\n"
          ],
          "name": "stdout"
        }
      ]
    },
    {
      "cell_type": "code",
      "metadata": {
        "id": "z-yYtP9ina7e",
        "colab_type": "code",
        "colab": {
          "base_uri": "https://localhost:8080/",
          "height": 208
        },
        "outputId": "88e29721-e8b3-4520-ee23-7c7a5535616b"
      },
      "source": [
        "#excerpts from Ken \"cant_stop_wont_stop\" Chung:\n",
        "#print statement\n",
        "print(\"Hello, World!\")\n",
        "\n",
        "\n",
        "\n",
        "#defining and using variables\n",
        "a, b = 1, 2\n",
        "print(a+b)\n",
        "\n",
        "#defining and calling functions\n",
        "def sampleFunction(arg):\n",
        "    print(\"%d + %d = %d\" % (a, b, a+b))\n",
        "    print((arg + ' ') * 3)\n",
        "\n",
        "sampleFunction(\"ha!\")\n",
        "\n",
        "#lists 1D and 2D\n",
        "list1 = [3, \"hello\", 2.0]\n",
        "list2 = [[\"Toph\",1], [\"DW\",2], [\"Mike\",0]]\n",
        "\n",
        "print(list1)\n",
        "print(list1[1])\n",
        "print(list2[0][0])\n",
        "\n",
        "#hashmaps (dictionaries)\n",
        "sample_dic = { 1:\"hello\", \"world\":2, \"name\":\"John\" }\n",
        "\n",
        "print(sample_dic)\n",
        "print(sample_dic[1])\n",
        "print(sample_dic[\"world\"])\n",
        "print(sample_dic[\"name\"])\n",
        "\n",
        "\n"
      ],
      "execution_count": null,
      "outputs": [
        {
          "output_type": "stream",
          "text": [
            "Hello, World!\n",
            "3\n",
            "1 + 2 = 3\n",
            "ha! ha! ha! \n",
            "[3, 'hello', 2.0]\n",
            "hello\n",
            "Toph\n",
            "{1: 'hello', 'world': 2, 'name': 'John'}\n",
            "hello\n",
            "2\n",
            "John\n"
          ],
          "name": "stdout"
        }
      ]
    },
    {
      "cell_type": "code",
      "metadata": {
        "id": "LWCwhlunncYN",
        "colab_type": "code",
        "colab": {}
      },
      "source": [
        "#excerpts from Ken \"cant_stop_wont_stop\" Chung:\n",
        "\n",
        "\n",
        "def factorial(n):\n",
        "    ans = 1\n",
        "    while n > 1:\n",
        "        ans *= n\n",
        "        n -= 1\n",
        "    return ans\n",
        "\n",
        "def fib(n):\n",
        "    a,b = 1,1\n",
        "    for i in range(n-1):\n",
        "        a,b = b, a+b\n",
        "    return a\n",
        "\n",
        "print(\"Good News Everyone!\")\n",
        "print(f\"4! = {factorial(4)}\" )\n",
        "print(f\"fib(5) = {fib(5)}\" )\n"
      ],
      "execution_count": null,
      "outputs": []
    },
    {
      "cell_type": "code",
      "metadata": {
        "id": "07dednIBn7Cw",
        "colab_type": "code",
        "colab": {
          "base_uri": "https://localhost:8080/",
          "height": 156
        },
        "outputId": "dcabf326-cb91-4199-b9e1-06c52f193b60"
      },
      "source": [
        "#nicely notated contributions from ol' DMoscoe:\n",
        "\n",
        "\"\"\"\n",
        "x    defining and using variables\n",
        "x    defining and calling (\"invoking\") functions\n",
        "x    Writing a \"Hello, world!\" script is a good first step...\n",
        "x    arrays (\"lists\" in python)\n",
        "    2D lists\n",
        "    hashmaps (\"dictionaries\" in python)\n",
        "\"\"\"\n",
        "\n",
        "car = 10 #no type casting (mostly).\n",
        "\n",
        "def factorial(n):\n",
        "    n = int(n)\n",
        "    if n == 1:\n",
        "        return 1\n",
        "    else:\n",
        "        return n * factorial(n - 1)\n",
        "\n",
        "\n",
        "def fib(n):\n",
        "    return 1\n",
        "\n",
        "print(\"Good News Everyone!\")\n",
        "print(f\"1! = {factorial(1)}\" ) #notice how f, {} are used.\n",
        "print(f\"fib(1) = {fib(1)}\" )\n",
        "\n",
        "list = [3, 4, 6, 7.3]\n",
        "print(list)\n",
        "\n",
        "for i in range(len(list)):\n",
        "    list[i] = 2*list[i]\n",
        "print(list)\n",
        "\n",
        "empty = [None, None, None, \"None\"]\n",
        "print(empty)\n",
        "\n",
        "dict = {\"A\":[1,2,5], \"B\":2, \"C\":3}\n",
        "print(dict[\"A\"])\n",
        "\n",
        "print(factorial(5))\n"
      ],
      "execution_count": null,
      "outputs": [
        {
          "output_type": "stream",
          "text": [
            "Good News Everyone!\n",
            "1! = 1\n",
            "fib(1) = 1\n",
            "[3, 4, 6, 7.3]\n",
            "[6, 8, 12, 14.6]\n",
            "[None, None, None, 'None']\n",
            "[1, 2, 5]\n",
            "120\n"
          ],
          "name": "stdout"
        }
      ]
    },
    {
      "cell_type": "code",
      "metadata": {
        "id": "MBvxbhkkoFgM",
        "colab_type": "code",
        "colab": {
          "base_uri": "https://localhost:8080/",
          "height": 69
        },
        "outputId": "cd83ecce-d547-4a57-decc-abb3c16dbaca"
      },
      "source": [
        "#more recursive implementations from Huanicus:\n",
        "\n",
        "def factorial(n):\n",
        "    if n == 0:\n",
        "        return 1\n",
        "    \n",
        "    return n * factorial(n-1)\n",
        "\n",
        "def fib(n):\n",
        "    if n == 1:\n",
        "        return 0\n",
        "    if n == 2 or n == 3:\n",
        "        return 1\n",
        "    \n",
        "    return fib(n-1) + fib(n-2)\n",
        "\n",
        "print(\"Good News Everyone!\")\n",
        "print(f\"4! = {factorial(4)}\" )\n",
        "print(f\"fib(8) = {fib(8)}\" )\n"
      ],
      "execution_count": null,
      "outputs": [
        {
          "output_type": "stream",
          "text": [
            "Good News Everyone!\n",
            "4! = 24\n",
            "fib(8) = 13\n"
          ],
          "name": "stdout"
        }
      ]
    },
    {
      "cell_type": "code",
      "metadata": {
        "id": "g788LMvwoek6",
        "colab_type": "code",
        "colab": {}
      },
      "source": [
        "# a docstring example and a dictionary we should discuss from IA:\n",
        "\"\"\"\n",
        "Created on Thu Sep  3 18:02:02 2020\n",
        "\n",
        "@author: Izagma\n",
        "\"\"\"\n",
        "\n",
        "# lists\n",
        "my_list = [1,2,3,4]\n",
        "print(my_list)\n",
        "\n",
        "# 2D arraya\n",
        "my_2d_list = [ [1,2],\n",
        "               [3.4] ]\n",
        "print (my_2d_list[0])\n",
        "\n",
        "# hashmaps (dictionaries)\n",
        "my_dict = { \"name\": \"foo\", \"last_name\": \"mine\" }\n",
        "print(my_dict)\n",
        "print(my_dict[\"name\"])"
      ],
      "execution_count": null,
      "outputs": []
    },
    {
      "cell_type": "code",
      "metadata": {
        "id": "h3gpGi9voub8",
        "colab_type": "code",
        "colab": {
          "base_uri": "https://localhost:8080/",
          "height": 173
        },
        "outputId": "4441ebc1-3711-46fb-fdd4-9c4c33a46300"
      },
      "source": [
        "# -*- coding: utf-8 -*-\n",
        "\"\"\"\n",
        "Created on Fri Aug 28 17:14:32 2020\n",
        "\n",
        "@author: Izagma\n",
        "\"\"\"\n",
        "\n",
        "# Clyde \"Thluffy\" Sinclair\n",
        "# Aug 2020\n",
        "\n",
        "def factorial(n):\n",
        "    if n == 1:\n",
        "        return 1\n",
        "    else:\n",
        "        return factorial(n-1)*n\n",
        "\n",
        "def fib(n):\n",
        "    if n == 1:\n",
        "        return 1\n",
        "    else:\n",
        "        return n-1+n\n",
        "\n",
        "n = 5\n",
        "factorial(n)\n",
        "print(n)\n",
        "\n",
        "print(\"Good News Everyone!\")\n",
        "print(f\"1! = {factorial(1)}\" )\n",
        "print(f\"2! = {factorial(2)}\" )\n",
        "print(f\"3! = {factorial(3)}\" )\n",
        "print(f\"10! = {factorial(10)}\" )\n",
        "print(f\"fib(1) = {fib(1)}\" )\n",
        "print(f\"fib(2) = {fib(2)}\" )\n",
        "print(f\"fib(3) = {fib(3)}\" )"
      ],
      "execution_count": null,
      "outputs": [
        {
          "output_type": "stream",
          "text": [
            "5\n",
            "Good News Everyone!\n",
            "1! = 1\n",
            "2! = 2\n",
            "3! = 6\n",
            "10! = 3628800\n",
            "fib(1) = 1\n",
            "fib(2) = 3\n",
            "fib(3) = 5\n"
          ],
          "name": "stdout"
        }
      ]
    },
    {
      "cell_type": "code",
      "metadata": {
        "id": "EEfc0LJaow7Z",
        "colab_type": "code",
        "colab": {
          "base_uri": "https://localhost:8080/",
          "height": 260
        },
        "outputId": "544bef0f-5437-4cc2-a0ce-054f6249d43d"
      },
      "source": [
        "#lots from Solo:\n",
        "\n",
        "#print statement\n",
        "print(\"Hello World!\")\n",
        "\n",
        "#defining variables\n",
        "a, b = 1, 2\n",
        "print(str(a) + \" + \" + str(b) + \" = \" + str(a + b))\n",
        "print(\"{} + {} = {}\".format(a, b, a + b))\n",
        "print(\"%d + %d = %d\" %(a, b, a + b))\n",
        "print(\"\")\n",
        "\n",
        "#defining a function\n",
        "def sampleFunction():\n",
        "    print(\"Inside the function\")\n",
        "\n",
        "#invoke sampleFunction\n",
        "sampleFunction()\n",
        "\n",
        "#create lists\n",
        "#1D variety\n",
        "list1 = [1, \"hello\", 3.14]\n",
        "\n",
        "#2D variety\n",
        "list2 = [[\"Mets\", 2],\n",
        "         [\"Yankees\", 27]]\n",
        "\n",
        "for i in list1:\n",
        "    print(\"{}: {}\".format(i, type(i)))\n",
        "\n",
        "print(\"\")\n",
        "print(\"Team: {}, Number of Championships: {}\".format(list2[0][0], list2[0][1]))\n",
        "print(list2[0])\n",
        "\n",
        "#dictionary\n",
        "myDict = {\n",
        "    \"J\": 31,\n",
        "    \"Y\": 30,\n",
        "    \"S\": 6,\n",
        "    \"E\": 2\n",
        "}\n",
        "\n",
        "print(\"\")\n",
        "print(myDict[\"J\"])\n"
      ],
      "execution_count": null,
      "outputs": [
        {
          "output_type": "stream",
          "text": [
            "Hello World!\n",
            "1 + 2 = 3\n",
            "1 + 2 = 3\n",
            "1 + 2 = 3\n",
            "\n",
            "Inside the function\n",
            "1: <class 'int'>\n",
            "hello: <class 'str'>\n",
            "3.14: <class 'float'>\n",
            "\n",
            "Team: Mets, Number of Championships: 2\n",
            "['Mets', 2]\n",
            "\n",
            "31\n"
          ],
          "name": "stdout"
        }
      ]
    },
    {
      "cell_type": "code",
      "metadata": {
        "id": "u5caWamwo6zH",
        "colab_type": "code",
        "colab": {
          "base_uri": "https://localhost:8080/",
          "height": 382
        },
        "outputId": "b6889f9b-4548-4779-985f-8cfde1f81035"
      },
      "source": [
        "# JDilla showing range() in action...\n",
        "\n",
        "# Clyde \"Thluffy\" Sinclair\n",
        "# Aug 2020\n",
        "\n",
        "def factorial(n):\n",
        "    if (n<=1):\n",
        "        return 1\n",
        "    else:\n",
        "        return n * factorial(n-1)\n",
        "\n",
        "def fib(n):\n",
        "    if (n>1):\n",
        "        return fib(n-1) + fib(n-2)\n",
        "    else:\n",
        "        return 1\n",
        "\n",
        "print(\"Good News Everyone!\")\n",
        "for x in range(0,10):\n",
        "    print(str(x) + \"! = \" + str(factorial(x)) )\n",
        "    print(\"fib(\" + str(x) + \") = \" + str(fib(x)) )"
      ],
      "execution_count": null,
      "outputs": [
        {
          "output_type": "stream",
          "text": [
            "Good News Everyone!\n",
            "0! = 1\n",
            "fib(0) = 1\n",
            "1! = 1\n",
            "fib(1) = 1\n",
            "2! = 2\n",
            "fib(2) = 2\n",
            "3! = 6\n",
            "fib(3) = 3\n",
            "4! = 24\n",
            "fib(4) = 5\n",
            "5! = 120\n",
            "fib(5) = 8\n",
            "6! = 720\n",
            "fib(6) = 13\n",
            "7! = 5040\n",
            "fib(7) = 21\n",
            "8! = 40320\n",
            "fib(8) = 34\n",
            "9! = 362880\n",
            "fib(9) = 55\n"
          ],
          "name": "stdout"
        }
      ]
    },
    {
      "cell_type": "code",
      "metadata": {
        "id": "wJvGo4-nqVPP",
        "colab_type": "code",
        "colab": {
          "base_uri": "https://localhost:8080/",
          "height": 156
        },
        "outputId": "901f2d14-d246-422f-f49d-0757393cfa04"
      },
      "source": [
        "#everyday is RW's birthday:\n",
        "# ( CLI input, as well as a WHILE loop in action )\n",
        "\n",
        "# Start with basics in Python\n",
        "\n",
        "#Part 1\n",
        "# Name: birthday_song\n",
        "# Purpose: birthday_song prints out a personalized birthday song\n",
        "# Input: name, string \n",
        "# Returns: none \n",
        "user_name = input(\"What's your name? \")\n",
        "def birthday_song(user1):\n",
        "    print(\"Happy birthday to you,\\nHappy birthday to you,\\nHappy birthday dear \" + str(user_name) + \"!\\nHappy birthday to you!\"  )\n",
        "birthday_song(user_name)\n",
        "\n",
        "#Part 2 Play a card game\n",
        "print(\"\\nWe are playing a game of cards!\")\n",
        "number = ['A', '2', '3', '4', '5', '6', '7', '8', '9', '10', 'J', 'Q', 'K']\n",
        "suit = ['Spades', 'Clubs', 'Diamonds', 'Hearts']\n",
        "\n",
        "def card_game():\n",
        "  import random\n",
        "  card_picker = 0\n",
        "  card_generator = [\" \", \" \", \" \", \" \", \" \"]\n",
        "  \n",
        "  def card_picked(numb, su):\n",
        "    return numb + \" of \" + su\n",
        "  while card_picker <= 4:\n",
        "    number_picker = random.randint(0,12)\n",
        "    suits_picker = random.randint(0,3)\n",
        "    card_generator[card_picker] = card_picked(number[number_picker], suit[suits_picker])\n",
        "    card_picker += 1\n",
        "    \n",
        "  print(card_generator)\n",
        "\n",
        "card_game() # Part 3 Calling card game() function."
      ],
      "execution_count": null,
      "outputs": [
        {
          "output_type": "stream",
          "text": [
            "What's your name? asdf\n",
            "Happy birthday to you,\n",
            "Happy birthday to you,\n",
            "Happy birthday dear asdf!\n",
            "Happy birthday to you!\n",
            "\n",
            "We are playing a game of cards!\n",
            "['8 of Clubs', '9 of Diamonds', 'J of Clubs', '7 of Diamonds', '8 of Clubs']\n"
          ],
          "name": "stdout"
        }
      ]
    },
    {
      "cell_type": "code",
      "metadata": {
        "id": "XtYe_SujqXj3",
        "colab_type": "code",
        "colab": {
          "base_uri": "https://localhost:8080/",
          "height": 278
        },
        "outputId": "3e6b9240-d438-4839-9a2f-f4be4ee6ed4e"
      },
      "source": [
        "#SKeener with quick and clear examples \n",
        "\n",
        "#Python Basics\n",
        "\n",
        "#defining variables\n",
        "x = 5\n",
        "y = \"lalala\"\n",
        "\n",
        "#defining functions\n",
        "def hello():\n",
        "    print(\"Hello, hellooooooo\")\n",
        "hello()\n",
        "\n",
        "#printing to stdout\n",
        "print(\"Hello World!\")\n",
        "print(y)\n",
        "print(f\"Variables are {y} and {x}\")\n",
        "\n",
        "#arrays\n",
        "array = [1,2,3,4]\n",
        "print(array)\n",
        "print(array[2])\n",
        "\n",
        "#2D list\n",
        "array = [[1,2,3],\n",
        "         [4,5,6],\n",
        "         [7,8,9]]\n",
        "print(array)\n",
        "print(array[2][2])\n",
        "\n",
        "#hashmap\n",
        "car = {\n",
        "  \"make\": \"Toyota\",\n",
        "  \"model\": \"Prius\",\n",
        "  \"year\": 2008\n",
        "}\n",
        "print(car[\"model\"])\n",
        "for x in car:\n",
        "    print(x)\n",
        "for x in car.values():\n",
        "    print(x)"
      ],
      "execution_count": null,
      "outputs": [
        {
          "output_type": "stream",
          "text": [
            "Hello, hellooooooo\n",
            "Hello World!\n",
            "lalala\n",
            "Variables are lalala and 5\n",
            "[1, 2, 3, 4]\n",
            "3\n",
            "[[1, 2, 3], [4, 5, 6], [7, 8, 9]]\n",
            "9\n",
            "Prius\n",
            "make\n",
            "model\n",
            "year\n",
            "Toyota\n",
            "Prius\n",
            "2008\n"
          ],
          "name": "stdout"
        }
      ]
    },
    {
      "cell_type": "code",
      "metadata": {
        "id": "P6iXF5F0q2qG",
        "colab_type": "code",
        "colab": {}
      },
      "source": [
        ""
      ],
      "execution_count": null,
      "outputs": []
    }
  ]
}